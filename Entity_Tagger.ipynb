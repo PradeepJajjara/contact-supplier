{
 "cells": [
  {
   "cell_type": "code",
   "execution_count": 1,
   "metadata": {},
   "outputs": [],
   "source": [
    "# Load pre-existing spacy model\n",
    "import spacy\n",
    "nlp=spacy.load('en_core_web_sm')\n",
    "ner=nlp.get_pipe(\"ner\")\n",
    "import warnings\n",
    "warnings.filterwarnings('ignore')\n",
    "from spacy.training.example import Example\n",
    "# Import requirements\n",
    "import random\n",
    "from spacy.util import minibatch, compounding\n",
    "import pandas as pd"
   ]
  },
  {
   "cell_type": "code",
   "execution_count": 2,
   "metadata": {},
   "outputs": [],
   "source": [
    "# training data\n",
    "TRAIN_DATA = [\n",
    "              (\"Hello Please reply with number 1 or 2 1. English 2. Hindi\", {\"entities\": [(41, 48, \"LANGUAGE\")]}),\n",
    "              (\"Hello What is your name?\", {\"entities\": [(19, 23, \"NAME\")]}),\n",
    "              (\"Drishti from CARE. What's your PIN?\", {\"entities\": [(31,34, \"PINCODE\")]}),\n",
    "              (\"Which of the following items do you provide? Please reply with number 1,2,3 or 4 1. Oxygen Cylinder 2. Oxygen Refill 3. Medicines 4. If something else, please type\", {\"entities\": [(36,43, \"MATERIAL\")]}),\n",
    "              (\"Hello, Drishti from CARE. Do you have Food available? Please reply with 1 or 2 1. Yes 2. No\", {\"entities\": [(43,52, \"AVAILABILITY\")]}),\n",
    "              (\"By when will it be available? Please select 1,2,3 or 4 1. 3 hours 2. 6 hours 3. 12 hours 4. 24 hours 5. Don't know \", {\"entities\": [(3,12, \"DURATION\")]}),\n",
    "              ]"
   ]
  },
  {
   "cell_type": "code",
   "execution_count": 3,
   "metadata": {},
   "outputs": [],
   "source": [
    "# Adding labels to the `ner`\n",
    "for _, annotations in TRAIN_DATA:\n",
    "    for ent in annotations.get(\"entities\"):\n",
    "        ner.add_label(ent[2])"
   ]
  },
  {
   "cell_type": "code",
   "execution_count": 4,
   "metadata": {},
   "outputs": [],
   "source": [
    "# Disable pipeline components you dont need to change\n",
    "pipe_exceptions = [\"ner\", \"trf_wordpiecer\", \"trf_tok2vec\"]\n",
    "unaffected_pipes = [pipe for pipe in nlp.pipe_names if pipe not in pipe_exceptions]"
   ]
  },
  {
   "cell_type": "code",
   "execution_count": null,
   "metadata": {},
   "outputs": [],
   "source": []
  },
  {
   "cell_type": "code",
   "execution_count": 5,
   "metadata": {
    "scrolled": true
   },
   "outputs": [
    {
     "name": "stdout",
     "output_type": "stream",
     "text": [
      "Losses {'ner': 4.820422617982642}\n",
      "Losses {'ner': 13.128085206350988}\n",
      "Losses {'ner': 15.128588331571109}\n",
      "Losses {'ner': 18.41263308745338}\n",
      "Losses {'ner': 20.53066187990704}\n",
      "Losses {'ner': 24.699039681521896}\n",
      "Losses {'ner': 4.244859072569852}\n",
      "Losses {'ner': 9.436308432006413}\n",
      "Losses {'ner': 12.079879939771988}\n",
      "Losses {'ner': 14.031474892722231}\n",
      "Losses {'ner': 16.014684215450096}\n",
      "Losses {'ner': 19.526277906481326}\n",
      "Losses {'ner': 5.454789087089646}\n",
      "Losses {'ner': 8.447409395643078}\n",
      "Losses {'ner': 11.047538102377453}\n",
      "Losses {'ner': 13.01563707180001}\n",
      "Losses {'ner': 15.370264769563244}\n",
      "Losses {'ner': 17.15217788262388}\n",
      "Losses {'ner': 2.0731761569633305}\n",
      "Losses {'ner': 4.048235515979701}\n",
      "Losses {'ner': 6.099339998432527}\n",
      "Losses {'ner': 8.632360835194103}\n",
      "Losses {'ner': 10.333331482400464}\n",
      "Losses {'ner': 12.53401676758794}\n",
      "Losses {'ner': 2.3020067573705774}\n",
      "Losses {'ner': 3.9351470961962036}\n",
      "Losses {'ner': 5.7478614317682855}\n",
      "Losses {'ner': 7.088362689228347}\n",
      "Losses {'ner': 10.69403581819114}\n",
      "Losses {'ner': 12.5865639943911}\n",
      "Losses {'ner': 0.713857059898146}\n",
      "Losses {'ner': 2.8161381920288022}\n",
      "Losses {'ner': 4.902520471504431}\n",
      "Losses {'ner': 7.053800626931263}\n",
      "Losses {'ner': 8.44507187922187}\n",
      "Losses {'ner': 9.73438583146941}\n",
      "Losses {'ner': 1.2105170291838476}\n",
      "Losses {'ner': 3.3491763308226155}\n",
      "Losses {'ner': 5.448504517506649}\n",
      "Losses {'ner': 6.309998960540838}\n",
      "Losses {'ner': 8.773356097240807}\n",
      "Losses {'ner': 10.204603281199738}\n",
      "Losses {'ner': 2.094088179663771}\n",
      "Losses {'ner': 2.2213738206405367}\n",
      "Losses {'ner': 3.4707082298177454}\n",
      "Losses {'ner': 4.908681009741002}\n",
      "Losses {'ner': 6.623711133508635}\n",
      "Losses {'ner': 8.247526500099497}\n",
      "Losses {'ner': 0.38108739547602255}\n",
      "Losses {'ner': 2.1852045541034}\n",
      "Losses {'ner': 3.20252865746739}\n",
      "Losses {'ner': 4.467120138353842}\n",
      "Losses {'ner': 6.396060454389563}\n",
      "Losses {'ner': 8.205992202332716}\n",
      "Losses {'ner': 1.758245110917528}\n",
      "Losses {'ner': 2.8715348865567876}\n",
      "Losses {'ner': 5.057945615276822}\n",
      "Losses {'ner': 6.532395548383192}\n",
      "Losses {'ner': 8.509781821510757}\n",
      "Losses {'ner': 10.247186116897263}\n",
      "Losses {'ner': 1.4629268187991329}\n",
      "Losses {'ner': 3.498327701414304}\n",
      "Losses {'ner': 4.284416287324454}\n",
      "Losses {'ner': 5.452666117129063}\n",
      "Losses {'ner': 6.576632050721962}\n",
      "Losses {'ner': 8.519176147547675}\n",
      "Losses {'ner': 0.9696251893062708}\n",
      "Losses {'ner': 1.0561519419695742}\n",
      "Losses {'ner': 2.4433569860388844}\n",
      "Losses {'ner': 3.9318885097655483}\n",
      "Losses {'ner': 5.162316919301764}\n",
      "Losses {'ner': 6.0855681633229946}\n",
      "Losses {'ner': 2.4812935257293987}\n",
      "Losses {'ner': 3.6310802221096594}\n",
      "Losses {'ner': 3.6349577120988386}\n",
      "Losses {'ner': 5.654414716598266}\n",
      "Losses {'ner': 6.951644888764173}\n",
      "Losses {'ner': 7.950565061182312}\n",
      "Losses {'ner': 1.1724546621727172}\n",
      "Losses {'ner': 2.7688458300725416}\n",
      "Losses {'ner': 3.005296377273704}\n",
      "Losses {'ner': 4.649913776086332}\n",
      "Losses {'ner': 5.4965012875107995}\n",
      "Losses {'ner': 6.855778623379606}\n",
      "Losses {'ner': 1.9307171746808747}\n",
      "Losses {'ner': 1.9405767554261564}\n",
      "Losses {'ner': 3.1242644756399676}\n",
      "Losses {'ner': 4.27268239545906}\n",
      "Losses {'ner': 5.322550636603554}\n",
      "Losses {'ner': 5.981327015637393}\n",
      "Losses {'ner': 0.9260189460536533}\n",
      "Losses {'ner': 1.8312584486985708}\n",
      "Losses {'ner': 2.529427418542297}\n",
      "Losses {'ner': 3.4934879964347623}\n",
      "Losses {'ner': 3.4969551359559947}\n",
      "Losses {'ner': 48.33135344449203}\n",
      "Losses {'ner': 0.7102110874169347}\n",
      "Losses {'ner': 2.0294982343210792}\n",
      "Losses {'ner': 4.679433690227084}\n",
      "Losses {'ner': 4.82254321149547}\n",
      "Losses {'ner': 6.437377113798432}\n",
      "Losses {'ner': 7.997074651265605}\n",
      "Losses {'ner': 0.7382762530257764}\n",
      "Losses {'ner': 0.8285535305619885}\n",
      "Losses {'ner': 38.91733969255303}\n",
      "Losses {'ner': 39.68315399905959}\n",
      "Losses {'ner': 40.82768310464674}\n",
      "Losses {'ner': 42.007735172479414}\n",
      "Losses {'ner': 0.7450653764861165}\n",
      "Losses {'ner': 2.604982235234306}\n",
      "Losses {'ner': 3.071586390038726}\n",
      "Losses {'ner': 3.9439036701225567}\n",
      "Losses {'ner': 5.247591084278562}\n",
      "Losses {'ner': 5.644315297895532}\n",
      "Losses {'ner': 0.8278813879814497}\n",
      "Losses {'ner': 0.8287835096026379}\n",
      "Losses {'ner': 1.2223874958240597}\n",
      "Losses {'ner': 2.904590007321511}\n",
      "Losses {'ner': 3.877654177337221}\n",
      "Losses {'ner': 5.177742604284043}\n",
      "Losses {'ner': 0.5405051167190721}\n",
      "Losses {'ner': 0.5405360586045361}\n",
      "Losses {'ner': 1.852124598050617}\n",
      "Losses {'ner': 2.568038591972573}\n",
      "Losses {'ner': 4.644841488504815}\n",
      "Losses {'ner': 6.349347361424871}\n",
      "Losses {'ner': 1.9044875003001875}\n",
      "Losses {'ner': 2.139172337326432}\n",
      "Losses {'ner': 3.023504058543442}\n",
      "Losses {'ner': 3.7413575725392425}\n",
      "Losses {'ner': 5.473707101540182}\n",
      "Losses {'ner': 5.483937367252769}\n",
      "Losses {'ner': 0.0021323703500291977}\n",
      "Losses {'ner': 2.423048887493566}\n",
      "Losses {'ner': 2.5090994369435484}\n",
      "Losses {'ner': 3.0723299968292097}\n",
      "Losses {'ner': 4.568854311796599}\n",
      "Losses {'ner': 5.330841462151896}\n",
      "Losses {'ner': 0.8345942134813743}\n",
      "Losses {'ner': 0.8346612302880045}\n",
      "Losses {'ner': 3.353613686664688}\n",
      "Losses {'ner': 4.553982124606582}\n",
      "Losses {'ner': 5.303756454929322}\n",
      "Losses {'ner': 5.3543003723178355}\n",
      "Losses {'ner': 0.866110800236648}\n",
      "Losses {'ner': 3.6341058625978855}\n",
      "Losses {'ner': 3.652780175593729}\n",
      "Losses {'ner': 4.151017712528637}\n",
      "Losses {'ner': 4.602278274755356}\n",
      "Losses {'ner': 5.763593742165063}\n",
      "Losses {'ner': 1.3267901993612143}\n",
      "Losses {'ner': 1.4938384969696676}\n",
      "Losses {'ner': 1.6168809199100842}\n",
      "Losses {'ner': 3.0312377555752588}\n",
      "Losses {'ner': 3.4424892088467147}\n",
      "Losses {'ner': 4.013746325752217}\n",
      "Losses {'ner': 1.8345705718503653}\n",
      "Losses {'ner': 2.4990605415826144}\n",
      "Losses {'ner': 2.499334451196792}\n",
      "Losses {'ner': 3.0605961314036474}\n",
      "Losses {'ner': 3.070815831656077}\n",
      "Losses {'ner': 3.3692468950673518}\n",
      "Losses {'ner': 0.01834020811737441}\n",
      "Losses {'ner': 1.8671070633201996}\n",
      "Losses {'ner': 3.540673008429286}\n",
      "Losses {'ner': 4.081550983419411}\n",
      "Losses {'ner': 4.641606725533622}\n",
      "Losses {'ner': 4.96591598448109}\n",
      "Losses {'ner': 0.25932231235749054}\n",
      "Losses {'ner': 1.2149526205182468}\n",
      "Losses {'ner': 1.5765323810052518}\n",
      "Losses {'ner': 1.587180256694878}\n",
      "Losses {'ner': 1.587182359373148}\n",
      "Losses {'ner': 3.754069262413235}\n",
      "Losses {'ner': 0.47742393412506917}\n",
      "Losses {'ner': 2.2209308110919324}\n",
      "Losses {'ner': 2.518503148403617}\n",
      "Losses {'ner': 2.9093212249555376}\n",
      "Losses {'ner': 3.151343313667612}\n",
      "Losses {'ner': 3.1516814115574565}\n"
     ]
    }
   ],
   "source": [
    "# TRAINING THE MODEL\n",
    "with nlp.disable_pipes(*unaffected_pipes):\n",
    "\n",
    "  # Training for 30 iterations\n",
    "  for iteration in range(30):\n",
    "\n",
    "    # shuufling examples  before every iteration\n",
    "    random.shuffle(TRAIN_DATA)\n",
    "    losses = {}\n",
    "    # batch up the examples using spaCy's minibatch\n",
    "    batches = minibatch(TRAIN_DATA, size=compounding(4.0, 32.0, 1.001))\n",
    "    for batch in batches:\n",
    "        for text, annotations in batch:\n",
    "            # create Example\n",
    "            doc = nlp.make_doc(text)\n",
    "            example = Example.from_dict(doc, annotations)\n",
    "            # Update the model\n",
    "            nlp.update([example], losses=losses, drop=0.5)\n",
    "            print(\"Losses\", losses)"
   ]
  },
  {
   "cell_type": "code",
   "execution_count": null,
   "metadata": {},
   "outputs": [],
   "source": []
  },
  {
   "cell_type": "code",
   "execution_count": 6,
   "metadata": {},
   "outputs": [
    {
     "name": "stdout",
     "output_type": "stream",
     "text": [
      "Entities [('name', 'NAME')]\n"
     ]
    }
   ],
   "source": [
    "# Testing the model\n",
    "doc = nlp(\"Hello What is your name?\")\n",
    "print(\"Entities\", [(ent.text, ent.label_) for ent in doc.ents])"
   ]
  },
  {
   "cell_type": "code",
   "execution_count": 7,
   "metadata": {},
   "outputs": [
    {
     "name": "stdout",
     "output_type": "stream",
     "text": [
      "Entities [('English', 'LANGUAGE')]\n"
     ]
    }
   ],
   "source": [
    "# Testing the model\n",
    "doc = nlp(\"Hello Please reply with number 1 or 2 1. English 2. Hindi\")\n",
    "print(\"Entities\", [(ent.text, ent.label_) for ent in doc.ents])"
   ]
  },
  {
   "cell_type": "code",
   "execution_count": 8,
   "metadata": {},
   "outputs": [
    {
     "name": "stdout",
     "output_type": "stream",
     "text": [
      "Entities [('PIN', 'PINCODE')]\n"
     ]
    }
   ],
   "source": [
    "# Testing the model\n",
    "doc = nlp(\"Drishti from CARE. What's your PIN?\")\n",
    "print(\"Entities\", [(ent.text, ent.label_) for ent in doc.ents])"
   ]
  },
  {
   "cell_type": "code",
   "execution_count": 9,
   "metadata": {},
   "outputs": [
    {
     "name": "stdout",
     "output_type": "stream",
     "text": [
      "Entities [('provide', 'MATERIAL')]\n"
     ]
    }
   ],
   "source": [
    "\n",
    "doc = nlp(\"Which of the following items do you provide? Please reply with number 1,2,3 or 4 1. Oxygen Cylinder 2. Oxygen Refill 3. Medicines 4. If something else, please type\")\n",
    "print(\"Entities\", [(ent.text, ent.label_) for ent in doc.ents])"
   ]
  },
  {
   "cell_type": "code",
   "execution_count": 10,
   "metadata": {},
   "outputs": [],
   "source": [
    "df = pd.read_csv('Data.csv')"
   ]
  },
  {
   "cell_type": "code",
   "execution_count": 11,
   "metadata": {},
   "outputs": [],
   "source": [
    "lst_doc = []\n",
    "for i in df['msg_txt']:\n",
    "    lst_doc.append(i)"
   ]
  },
  {
   "cell_type": "code",
   "execution_count": 12,
   "metadata": {},
   "outputs": [],
   "source": [
    "labels = []\n",
    "for i in lst_doc:\n",
    "    doc = nlp(i)\n",
    "    for ent in doc.ents:\n",
    "    # Print the entity text and its label\n",
    "       labels.append(ent.label_)"
   ]
  },
  {
   "cell_type": "code",
   "execution_count": 13,
   "metadata": {},
   "outputs": [],
   "source": [
    "data = [df[\"msg_txt\"], pd.Series(labels)]\n",
    "\n",
    "headers = [\"msg_txt\", \"entity\"]\n",
    "\n",
    "df_new = pd.concat(data, axis=1, keys=headers)"
   ]
  },
  {
   "cell_type": "code",
   "execution_count": 14,
   "metadata": {},
   "outputs": [
    {
     "data": {
      "text/html": [
       "<div>\n",
       "<style scoped>\n",
       "    .dataframe tbody tr th:only-of-type {\n",
       "        vertical-align: middle;\n",
       "    }\n",
       "\n",
       "    .dataframe tbody tr th {\n",
       "        vertical-align: top;\n",
       "    }\n",
       "\n",
       "    .dataframe thead th {\n",
       "        text-align: right;\n",
       "    }\n",
       "</style>\n",
       "<table border=\"1\" class=\"dataframe\">\n",
       "  <thead>\n",
       "    <tr style=\"text-align: right;\">\n",
       "      <th></th>\n",
       "      <th>msg_txt</th>\n",
       "      <th>entity</th>\n",
       "    </tr>\n",
       "  </thead>\n",
       "  <tbody>\n",
       "    <tr>\n",
       "      <th>0</th>\n",
       "      <td>Hello\\nPlease reply with number 1 or 2\\n1. Eng...</td>\n",
       "      <td>LANGUAGE</td>\n",
       "    </tr>\n",
       "    <tr>\n",
       "      <th>1</th>\n",
       "      <td>Hello\\nWhat is your name?</td>\n",
       "      <td>NAME</td>\n",
       "    </tr>\n",
       "    <tr>\n",
       "      <th>2</th>\n",
       "      <td>Drishti from CARE. What's your PIN?</td>\n",
       "      <td>PINCODE</td>\n",
       "    </tr>\n",
       "    <tr>\n",
       "      <th>3</th>\n",
       "      <td>Which of the following items do you  provide?\\...</td>\n",
       "      <td>MATERIAL</td>\n",
       "    </tr>\n",
       "    <tr>\n",
       "      <th>4</th>\n",
       "      <td>Hello, Drishti from CARE.\\nDo you have Food av...</td>\n",
       "      <td>AVAILABILITY</td>\n",
       "    </tr>\n",
       "    <tr>\n",
       "      <th>5</th>\n",
       "      <td>Hello, Drishti from CARE.\\nDo you have Food av...</td>\n",
       "      <td>AVAILABILITY</td>\n",
       "    </tr>\n",
       "    <tr>\n",
       "      <th>6</th>\n",
       "      <td>By when will it be available?\\nPlease select 1...</td>\n",
       "      <td>DURATION</td>\n",
       "    </tr>\n",
       "  </tbody>\n",
       "</table>\n",
       "</div>"
      ],
      "text/plain": [
       "                                             msg_txt        entity\n",
       "0  Hello\\nPlease reply with number 1 or 2\\n1. Eng...      LANGUAGE\n",
       "1                          Hello\\nWhat is your name?          NAME\n",
       "2                Drishti from CARE. What's your PIN?       PINCODE\n",
       "3  Which of the following items do you  provide?\\...      MATERIAL\n",
       "4  Hello, Drishti from CARE.\\nDo you have Food av...  AVAILABILITY\n",
       "5  Hello, Drishti from CARE.\\nDo you have Food av...  AVAILABILITY\n",
       "6  By when will it be available?\\nPlease select 1...      DURATION"
      ]
     },
     "execution_count": 14,
     "metadata": {},
     "output_type": "execute_result"
    }
   ],
   "source": [
    "df_new"
   ]
  },
  {
   "cell_type": "code",
   "execution_count": 15,
   "metadata": {},
   "outputs": [],
   "source": [
    "df_new.to_csv('Data_new.csv')"
   ]
  },
  {
   "cell_type": "code",
   "execution_count": null,
   "metadata": {},
   "outputs": [],
   "source": []
  }
 ],
 "metadata": {
  "kernelspec": {
   "display_name": "Python 3",
   "language": "python",
   "name": "python3"
  },
  "language_info": {
   "codemirror_mode": {
    "name": "ipython",
    "version": 3
   },
   "file_extension": ".py",
   "mimetype": "text/x-python",
   "name": "python",
   "nbconvert_exporter": "python",
   "pygments_lexer": "ipython3",
   "version": "3.8.5"
  }
 },
 "nbformat": 4,
 "nbformat_minor": 4
}
